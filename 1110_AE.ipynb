{
 "cells": [
  {
   "cell_type": "code",
   "execution_count": 58,
   "id": "16680d7a",
   "metadata": {},
   "outputs": [],
   "source": [
    "# 필요한 라이브러리 로드\n",
    "import pandas as pd\n",
    "import numpy as np\n",
    "import pickle\n",
    "import matplotlib.pyplot as plt\n",
    "from scipy import stats\n",
    "import tensorflow as tf\n",
    "import seaborn as sns\n",
    "from pylab import rcParams\n",
    "from sklearn.model_selection import train_test_split\n",
    "from keras.models import Model, load_model\n",
    "from keras.layers import Input, Dense\n",
    "from keras.callbacks import ModelCheckpoint, TensorBoard\n",
    "from keras import regularizers"
   ]
  },
  {
   "cell_type": "code",
   "execution_count": 59,
   "id": "c8d4978c",
   "metadata": {},
   "outputs": [],
   "source": [
    "%matplotlib inline\n",
    "\n",
    "sns.set(style='whitegrid', palette='muted', font_scale=1.5)\n",
    "\n",
    "rcParams['figure.figsize'] = 14, 8\n",
    "\n",
    "# RANDOM_SEED와 LABELS 설정\n",
    "RANDOM_SEED = 42\n",
    "LABELS = [\"Normal\", \"AbNormal\"]"
   ]
  },
  {
   "cell_type": "code",
   "execution_count": 60,
   "id": "e4bbb19b",
   "metadata": {},
   "outputs": [
    {
     "data": {
      "text/html": [
       "<div>\n",
       "<style scoped>\n",
       "    .dataframe tbody tr th:only-of-type {\n",
       "        vertical-align: middle;\n",
       "    }\n",
       "\n",
       "    .dataframe tbody tr th {\n",
       "        vertical-align: top;\n",
       "    }\n",
       "\n",
       "    .dataframe thead th {\n",
       "        text-align: right;\n",
       "    }\n",
       "</style>\n",
       "<table border=\"1\" class=\"dataframe\">\n",
       "  <thead>\n",
       "    <tr style=\"text-align: right;\">\n",
       "      <th></th>\n",
       "      <th>user-id</th>\n",
       "      <th>activity</th>\n",
       "      <th>timestamp</th>\n",
       "      <th>X</th>\n",
       "      <th>Y</th>\n",
       "      <th>Z</th>\n",
       "    </tr>\n",
       "  </thead>\n",
       "  <tbody>\n",
       "    <tr>\n",
       "      <th>221333</th>\n",
       "      <td>27</td>\n",
       "      <td>Sitting</td>\n",
       "      <td>12363992261000</td>\n",
       "      <td>2.600000</td>\n",
       "      <td>9.660000</td>\n",
       "      <td>1.035146</td>\n",
       "    </tr>\n",
       "    <tr>\n",
       "      <th>221334</th>\n",
       "      <td>27</td>\n",
       "      <td>Sitting</td>\n",
       "      <td>12364042279000</td>\n",
       "      <td>2.680000</td>\n",
       "      <td>9.530000</td>\n",
       "      <td>0.503953</td>\n",
       "    </tr>\n",
       "    <tr>\n",
       "      <th>221335</th>\n",
       "      <td>27</td>\n",
       "      <td>Sitting</td>\n",
       "      <td>12364092267000</td>\n",
       "      <td>3.490000</td>\n",
       "      <td>8.890000</td>\n",
       "      <td>0.762740</td>\n",
       "    </tr>\n",
       "    <tr>\n",
       "      <th>221336</th>\n",
       "      <td>27</td>\n",
       "      <td>Sitting</td>\n",
       "      <td>12364142316000</td>\n",
       "      <td>3.640000</td>\n",
       "      <td>9.380000</td>\n",
       "      <td>0.926184</td>\n",
       "    </tr>\n",
       "    <tr>\n",
       "      <th>221337</th>\n",
       "      <td>27</td>\n",
       "      <td>Sitting</td>\n",
       "      <td>12364192273000</td>\n",
       "      <td>2.910000</td>\n",
       "      <td>9.340000</td>\n",
       "      <td>1.035146</td>\n",
       "    </tr>\n",
       "    <tr>\n",
       "      <th>...</th>\n",
       "      <td>...</td>\n",
       "      <td>...</td>\n",
       "      <td>...</td>\n",
       "      <td>...</td>\n",
       "      <td>...</td>\n",
       "      <td>...</td>\n",
       "    </tr>\n",
       "    <tr>\n",
       "      <th>13015</th>\n",
       "      <td>17</td>\n",
       "      <td>Jogging</td>\n",
       "      <td>58401032305000</td>\n",
       "      <td>5.434519</td>\n",
       "      <td>8.853226</td>\n",
       "      <td>3.909040</td>\n",
       "    </tr>\n",
       "    <tr>\n",
       "      <th>13016</th>\n",
       "      <td>17</td>\n",
       "      <td>Jogging</td>\n",
       "      <td>58401203050000</td>\n",
       "      <td>-4.331271</td>\n",
       "      <td>19.531578</td>\n",
       "      <td>-1.729784</td>\n",
       "    </tr>\n",
       "    <tr>\n",
       "      <th>13017</th>\n",
       "      <td>17</td>\n",
       "      <td>Jogging</td>\n",
       "      <td>58401432238000</td>\n",
       "      <td>-1.035146</td>\n",
       "      <td>-5.012288</td>\n",
       "      <td>-4.481094</td>\n",
       "    </tr>\n",
       "    <tr>\n",
       "      <th>13018</th>\n",
       "      <td>17</td>\n",
       "      <td>Jogging</td>\n",
       "      <td>58401542223000</td>\n",
       "      <td>7.082581</td>\n",
       "      <td>17.243360</td>\n",
       "      <td>-0.381370</td>\n",
       "    </tr>\n",
       "    <tr>\n",
       "      <th>13019</th>\n",
       "      <td>17</td>\n",
       "      <td>Jogging</td>\n",
       "      <td>58401592394000</td>\n",
       "      <td>6.442424</td>\n",
       "      <td>5.053149</td>\n",
       "      <td>-5.788648</td>\n",
       "    </tr>\n",
       "  </tbody>\n",
       "</table>\n",
       "<p>8999 rows × 6 columns</p>\n",
       "</div>"
      ],
      "text/plain": [
       "        user-id activity       timestamp         X          Y         Z\n",
       "221333       27  Sitting  12363992261000  2.600000   9.660000  1.035146\n",
       "221334       27  Sitting  12364042279000  2.680000   9.530000  0.503953\n",
       "221335       27  Sitting  12364092267000  3.490000   8.890000  0.762740\n",
       "221336       27  Sitting  12364142316000  3.640000   9.380000  0.926184\n",
       "221337       27  Sitting  12364192273000  2.910000   9.340000  1.035146\n",
       "...         ...      ...             ...       ...        ...       ...\n",
       "13015        17  Jogging  58401032305000  5.434519   8.853226  3.909040\n",
       "13016        17  Jogging  58401203050000 -4.331271  19.531578 -1.729784\n",
       "13017        17  Jogging  58401432238000 -1.035146  -5.012288 -4.481094\n",
       "13018        17  Jogging  58401542223000  7.082581  17.243360 -0.381370\n",
       "13019        17  Jogging  58401592394000  6.442424   5.053149 -5.788648\n",
       "\n",
       "[8999 rows x 6 columns]"
      ]
     },
     "execution_count": 60,
     "metadata": {},
     "output_type": "execute_result"
    }
   ],
   "source": [
    "data = pd.read_csv(\"dataset/WISDM.csv\")\n",
    "data = data.drop('Unnamed: 0', axis=1)\n",
    "\n",
    "sitting = data.loc[(data['activity'] == 'Sitting')]\n",
    "jogging = data.loc[(data['activity'] == 'Jogging')]\n",
    "\n",
    "df = pd.concat([sitting[:4499], jogging[:4500]])\n",
    "\n",
    "df"
   ]
  },
  {
   "cell_type": "code",
   "execution_count": 61,
   "id": "7e5506f6",
   "metadata": {},
   "outputs": [
    {
     "data": {
      "text/plain": [
       "(8999, 6)"
      ]
     },
     "execution_count": 61,
     "metadata": {},
     "output_type": "execute_result"
    }
   ],
   "source": [
    "df.shape"
   ]
  },
  {
   "cell_type": "code",
   "execution_count": 62,
   "id": "a036ffb6",
   "metadata": {},
   "outputs": [
    {
     "data": {
      "text/plain": [
       "False"
      ]
     },
     "execution_count": 62,
     "metadata": {},
     "output_type": "execute_result"
    }
   ],
   "source": [
    "df.isnull().values.any()"
   ]
  },
  {
   "cell_type": "code",
   "execution_count": 63,
   "id": "d6e86959",
   "metadata": {},
   "outputs": [
    {
     "data": {
      "text/plain": [
       "Text(0.5, 0, 'activity')"
      ]
     },
     "execution_count": 63,
     "metadata": {},
     "output_type": "execute_result"
    },
    {
     "data": {
      "image/png": "[encoded data removed]",
      "text/plain": [
       "<Figure size 1400x800 with 1 Axes>"
      ]
     },
     "metadata": {},
     "output_type": "display_data"
    }
   ],
   "source": [
    "count_classes = pd.value_counts(df['activity'], sort = True)\n",
    "count_classes.plot(kind = 'bar', rot=0)\n",
    "plt.title(\"Transaction class distribution\")\n",
    "plt.xticks(range(2), LABELS)\n",
    "plt.xlabel(\"activity\")"
   ]
  },
  {
   "cell_type": "code",
   "execution_count": 64,
   "metadata": {},
   "outputs": [],
   "source": [
    "# Normalize features for training data set (values between 0 and 1)\n",
    "# Surpress warning for next 3 operation\n",
    "pd.options.mode.chained_assignment = None  # default='warn'\n",
    "\n",
    "df['X'] = df['X'] / df['X'].max()\n",
    "df['Y'] = df['Y'] / df['Y'].max()\n",
    "df['Z'] = df['Z'] / df['Z'].max()\n",
    "# Round numbers\n",
    "df = df.round({'X': 4, 'Y': 4, 'Z': 4})"
   ]
  },
  {
   "cell_type": "code",
   "execution_count": 65,
   "id": "7943e6f8",
   "metadata": {},
   "outputs": [
    {
     "data": {
      "text/plain": [
       "(4499, 6)"
      ]
     },
     "execution_count": 65,
     "metadata": {},
     "output_type": "execute_result"
    }
   ],
   "source": [
    "abnormal = df[df.activity == 'Sitting']\n",
    "normal = df[df.activity == 'Jogging']\n",
    "abnormal.shape"
   ]
  },
  {
   "cell_type": "code",
   "execution_count": 66,
   "id": "b40f7940",
   "metadata": {},
   "outputs": [
    {
     "data": {
      "text/plain": [
       "(4500, 6)"
      ]
     },
     "execution_count": 66,
     "metadata": {},
     "output_type": "execute_result"
    }
   ],
   "source": [
    "normal.shape"
   ]
  },
  {
   "cell_type": "code",
   "execution_count": 68,
   "metadata": {},
   "outputs": [],
   "source": [
    "\n",
    "X = df[['X', 'Y', 'Z']].values\n",
    "y = df['activity'].apply(lambda x: 0 if x == 'Jogging' else 1).values  # Normal: 0, Abnormal: 1"
   ]
  },
  {
   "cell_type": "code",
   "execution_count": 69,
   "metadata": {},
   "outputs": [],
   "source": [
    "X_train, X_test, y_train, y_test = train_test_split(X, y, test_size=0.2, random_state=RANDOM_SEED)"
   ]
  },
  {
   "cell_type": "code",
   "execution_count": 70,
   "metadata": {},
   "outputs": [
    {
     "name": "stdout",
     "output_type": "stream",
     "text": [
      "Epoch 1/50\n",
      "225/225 [==============================] - 1s 2ms/step - loss: 0.0510 - val_loss: 0.0384\n",
      "Epoch 2/50\n",
      "225/225 [==============================] - 0s 2ms/step - loss: 0.0334 - val_loss: 0.0293\n",
      "Epoch 3/50\n",
      "225/225 [==============================] - 0s 2ms/step - loss: 0.0263 - val_loss: 0.0238\n",
      "Epoch 4/50\n",
      "225/225 [==============================] - 0s 2ms/step - loss: 0.0226 - val_loss: 0.0214\n",
      "Epoch 5/50\n",
      "225/225 [==============================] - 0s 2ms/step - loss: 0.0209 - val_loss: 0.0202\n",
      "Epoch 6/50\n",
      "225/225 [==============================] - 0s 2ms/step - loss: 0.0199 - val_loss: 0.0193\n",
      "Epoch 7/50\n",
      "225/225 [==============================] - 0s 2ms/step - loss: 0.0192 - val_loss: 0.0188\n",
      "Epoch 8/50\n",
      "225/225 [==============================] - 1s 3ms/step - loss: 0.0187 - val_loss: 0.0184\n",
      "Epoch 9/50\n",
      "225/225 [==============================] - 0s 2ms/step - loss: 0.0182 - val_loss: 0.0180\n",
      "Epoch 10/50\n",
      "225/225 [==============================] - 0s 2ms/step - loss: 0.0179 - val_loss: 0.0177\n",
      "Epoch 11/50\n",
      "225/225 [==============================] - 0s 2ms/step - loss: 0.0176 - val_loss: 0.0175\n",
      "Epoch 12/50\n",
      "225/225 [==============================] - 1s 2ms/step - loss: 0.0174 - val_loss: 0.0173\n",
      "Epoch 13/50\n",
      "225/225 [==============================] - 1s 2ms/step - loss: 0.0172 - val_loss: 0.0173\n",
      "Epoch 14/50\n",
      "225/225 [==============================] - 1s 2ms/step - loss: 0.0171 - val_loss: 0.0170\n",
      "Epoch 15/50\n",
      "225/225 [==============================] - 1s 3ms/step - loss: 0.0170 - val_loss: 0.0170\n",
      "Epoch 16/50\n",
      "225/225 [==============================] - 1s 3ms/step - loss: 0.0168 - val_loss: 0.0168\n",
      "Epoch 17/50\n",
      "225/225 [==============================] - 0s 2ms/step - loss: 0.0168 - val_loss: 0.0168\n",
      "Epoch 18/50\n",
      "225/225 [==============================] - 0s 2ms/step - loss: 0.0167 - val_loss: 0.0167\n",
      "Epoch 19/50\n",
      "225/225 [==============================] - 0s 2ms/step - loss: 0.0166 - val_loss: 0.0166\n",
      "Epoch 20/50\n",
      "225/225 [==============================] - 0s 2ms/step - loss: 0.0166 - val_loss: 0.0166\n",
      "Epoch 21/50\n",
      "225/225 [==============================] - 0s 2ms/step - loss: 0.0165 - val_loss: 0.0166\n",
      "Epoch 22/50\n",
      "225/225 [==============================] - 0s 2ms/step - loss: 0.0165 - val_loss: 0.0166\n",
      "Epoch 23/50\n",
      "225/225 [==============================] - 0s 2ms/step - loss: 0.0165 - val_loss: 0.0166\n",
      "Epoch 24/50\n",
      "225/225 [==============================] - 0s 2ms/step - loss: 0.0164 - val_loss: 0.0166\n",
      "Epoch 25/50\n",
      "225/225 [==============================] - 0s 2ms/step - loss: 0.0164 - val_loss: 0.0165\n",
      "Epoch 26/50\n",
      "225/225 [==============================] - 0s 2ms/step - loss: 0.0164 - val_loss: 0.0165\n",
      "Epoch 27/50\n",
      "225/225 [==============================] - 0s 2ms/step - loss: 0.0163 - val_loss: 0.0165\n",
      "Epoch 28/50\n",
      "225/225 [==============================] - 1s 2ms/step - loss: 0.0163 - val_loss: 0.0164\n",
      "Epoch 29/50\n",
      "225/225 [==============================] - 0s 2ms/step - loss: 0.0163 - val_loss: 0.0164\n",
      "Epoch 30/50\n",
      "225/225 [==============================] - 1s 2ms/step - loss: 0.0163 - val_loss: 0.0164\n",
      "Epoch 31/50\n",
      "225/225 [==============================] - 0s 2ms/step - loss: 0.0163 - val_loss: 0.0165\n",
      "Epoch 32/50\n",
      "225/225 [==============================] - 0s 2ms/step - loss: 0.0163 - val_loss: 0.0164\n",
      "Epoch 33/50\n",
      "225/225 [==============================] - 0s 2ms/step - loss: 0.0163 - val_loss: 0.0163\n",
      "Epoch 34/50\n",
      "225/225 [==============================] - 0s 2ms/step - loss: 0.0162 - val_loss: 0.0164\n",
      "Epoch 35/50\n",
      "225/225 [==============================] - 1s 2ms/step - loss: 0.0162 - val_loss: 0.0164\n",
      "Epoch 36/50\n",
      "225/225 [==============================] - 0s 2ms/step - loss: 0.0162 - val_loss: 0.0164\n",
      "Epoch 37/50\n",
      "225/225 [==============================] - 1s 3ms/step - loss: 0.0162 - val_loss: 0.0163\n",
      "Epoch 38/50\n",
      "225/225 [==============================] - 0s 2ms/step - loss: 0.0162 - val_loss: 0.0163\n",
      "Epoch 39/50\n",
      "225/225 [==============================] - 1s 3ms/step - loss: 0.0162 - val_loss: 0.0163\n",
      "Epoch 40/50\n",
      "225/225 [==============================] - 0s 2ms/step - loss: 0.0162 - val_loss: 0.0163\n",
      "Epoch 41/50\n",
      "225/225 [==============================] - 0s 2ms/step - loss: 0.0162 - val_loss: 0.0163\n",
      "Epoch 42/50\n",
      "225/225 [==============================] - 0s 2ms/step - loss: 0.0162 - val_loss: 0.0163\n",
      "Epoch 43/50\n",
      "225/225 [==============================] - 0s 2ms/step - loss: 0.0161 - val_loss: 0.0164\n",
      "Epoch 44/50\n",
      "225/225 [==============================] - 0s 2ms/step - loss: 0.0161 - val_loss: 0.0163\n",
      "Epoch 45/50\n",
      "225/225 [==============================] - 0s 2ms/step - loss: 0.0161 - val_loss: 0.0163\n",
      "Epoch 46/50\n",
      "225/225 [==============================] - 0s 2ms/step - loss: 0.0161 - val_loss: 0.0163\n",
      "Epoch 47/50\n",
      "225/225 [==============================] - 0s 2ms/step - loss: 0.0161 - val_loss: 0.0163\n",
      "Epoch 48/50\n",
      "225/225 [==============================] - 0s 2ms/step - loss: 0.0161 - val_loss: 0.0163\n",
      "Epoch 49/50\n",
      "225/225 [==============================] - 0s 2ms/step - loss: 0.0161 - val_loss: 0.0163\n",
      "Epoch 50/50\n",
      "225/225 [==============================] - 0s 2ms/step - loss: 0.0161 - val_loss: 0.0163\n"
     ]
    }
   ],
   "source": [
    "input_dim = X_train.shape[1]\n",
    "\n",
    "input_layer = Input(shape=(input_dim, ))\n",
    "encoder = Dense(3, activation=\"tanh\", activity_regularizer=regularizers.l1(10e-5))(input_layer)\n",
    "encoder = Dense(2, activation=\"relu\")(encoder)\n",
    "decoder = Dense(3, activation='tanh')(encoder)\n",
    "autoencoder = Model(inputs=input_layer, outputs=decoder)\n",
    "\n",
    "autoencoder.compile(optimizer='adam', loss='mean_squared_error')\n",
    "\n",
    "history = autoencoder.fit(X_train, X_train, epochs=50, batch_size=32, shuffle=True, validation_data=(X_test, X_test))"
   ]
  },
  {
   "cell_type": "code",
   "execution_count": 71,
   "metadata": {},
   "outputs": [
    {
     "name": "stdout",
     "output_type": "stream",
     "text": [
      "57/57 [==============================] - 0s 1ms/step\n"
     ]
    }
   ],
   "source": [
    "predictions = autoencoder.predict(X_test)\n",
    "\n",
    "mse = np.mean(np.power(X_test - predictions, 2), axis=1)\n",
    "\n",
    "threshold = np.mean(mse) + 2 * np.std(mse)\n",
    "y_pred = [1 if e > threshold else 0 for e in mse]"
   ]
  },
  {
   "cell_type": "code",
   "execution_count": 72,
   "metadata": {},
   "outputs": [
    {
     "data": {
      "image/png": "[encoded data removed]",
      "text/plain": [
       "<Figure size 1400x800 with 2 Axes>"
      ]
     },
     "metadata": {},
     "output_type": "display_data"
    }
   ],
   "source": [
    "from sklearn.metrics import confusion_matrix, classification_report\n",
    "conf_matrix = confusion_matrix(y_test, y_pred)\n",
    "\n",
    "\n",
    "sns.heatmap(conf_matrix, annot=True, fmt=\"d\", cmap=\"Blues\", xticklabels=LABELS, yticklabels=LABELS)\n",
    "plt.title(\"Confusion Matrix\")\n",
    "plt.xlabel('Predicted')\n",
    "plt.ylabel('Actual')\n",
    "plt.show()"
   ]
  }
 ],
 "metadata": {
  "kernelspec": {
   "display_name": "Python 3",
   "language": "python",
   "name": "python3"
  },
  "language_info": {
   "codemirror_mode": {
    "name": "ipython",
    "version": 3
   },
   "file_extension": ".py",
   "mimetype": "text/x-python",
   "name": "python",
   "nbconvert_exporter": "python",
   "pygments_lexer": "ipython3",
   "version": "3.9.18"
  }
 },
 "nbformat": 4,
 "nbformat_minor": 5
}
