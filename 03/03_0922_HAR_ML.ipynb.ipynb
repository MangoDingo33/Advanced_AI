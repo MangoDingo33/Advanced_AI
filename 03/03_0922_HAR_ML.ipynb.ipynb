{
  "cells": [
    {
      "cell_type": "code",
      "execution_count": 1,
      "metadata": {
        "id": "LmJZAAI28-yb"
      },
      "outputs": [
        {
          "name": "stderr",
          "output_type": "stream",
          "text": [
            "2023-09-29 05:31:37.281917: I tensorflow/core/platform/cpu_feature_guard.cc:182] This TensorFlow binary is optimized to use available CPU instructions in performance-critical operations.\n",
            "To enable the following instructions: AVX2 FMA, in other operations, rebuild TensorFlow with the appropriate compiler flags.\n"
          ]
        }
      ],
      "source": [
        "import numpy as np\n",
        "from numpy import mean\n",
        "from numpy import std\n",
        "from numpy import dstack\n",
        "from pandas import read_csv\n",
        "from keras.models import Sequential\n",
        "from keras.layers import Dense\n",
        "from keras.layers import Flatten\n",
        "from keras.layers import Dropout\n",
        "from keras.layers import LSTM\n",
        "from keras.layers import Conv1D\n",
        "from keras.layers import MaxPooling1D\n",
        "from keras.utils import to_categorical\n",
        "from matplotlib import pyplot\n",
        "import matplotlib.pyplot as plt\n",
        "from keras.utils import plot_model\n",
        "import pandas as pd\n",
        "from sklearn.metrics import confusion_matrix, classification_report\n",
        "import seaborn as sns\n",
        "# set seed to reproduce similar results\n",
        "np.random.seed(0)"
      ]
    },
    {
      "cell_type": "code",
      "execution_count": 2,
      "metadata": {},
      "outputs": [
        {
          "name": "stdout",
          "output_type": "stream",
          "text": [
            "mv: rename /Users/mangodingo/Desktop/VS/Advanced to human_activity/Advanced: No such file or directory\n",
            "mv: rename AI/0922/human_activity to human_activity/human_activity: No such file or directory\n"
          ]
        }
      ],
      "source": [
        "!mv /Users/mangodingo/Desktop/VS/Advanced AI/0922/human_activity human_activity"
      ]
    },
    {
      "cell_type": "code",
      "execution_count": 3,
      "metadata": {},
      "outputs": [],
      "source": [
        "\n",
        "def get_new_feature_name_df(old_feature_name_df):\n",
        "    feature_dup_df = pd.DataFrame(data=old_feature_name_df.groupby('column_name').cumcount(),\n",
        "                                  columns=['dup_cnt'])\n",
        "    feature_dup_df = feature_dup_df.reset_index()\n",
        "    new_feature_name_df = pd.merge(old_feature_name_df.reset_index(), feature_dup_df, how='outer')\n",
        "    new_feature_name_df['column_name'] = new_feature_name_df[['column_name', 'dup_cnt']].apply(lambda x : x[0]+'_'+str(x[1]) \n",
        "                                                                                         if x[1] >0 else x[0] ,  axis=1)\n",
        "    new_feature_name_df = new_feature_name_df.drop(['index'], axis=1)\n",
        "    return new_feature_name_df\n",
        "\n",
        "def get_human_dataset( ):\n",
        "    \n",
        "    # 각 데이터 파일들은 공백으로 분리되어 있으므로 read_csv에서 공백 문자를 sep으로 할당.\n",
        "    feature_name_df = pd.read_csv('/Users/mangodingo/Desktop/VS/Advanced_AI/0922/human_activity/features.txt',sep='\\s+',\n",
        "                        header=None,names=['column_index','column_name'])\n",
        "    \n",
        "    # 중복된 피처명을 수정하는 get_new_feature_name_df()를 이용, 신규 피처명 DataFrame생성. \n",
        "    new_feature_name_df = get_new_feature_name_df(feature_name_df)\n",
        "    \n",
        "    # DataFrame에 피처명을 컬럼으로 부여하기 위해 리스트 객체로 다시 변환\n",
        "    feature_name = new_feature_name_df.iloc[:, 1].values.tolist()\n",
        "    \n",
        "    # 학습 피처 데이터 셋과 테스트 피처 데이터을 DataFrame으로 로딩. 컬럼명은 feature_name 적용\n",
        "    X_train = pd.read_csv('./human_activity/train/X_train.txt',sep='\\s+', names=feature_name )\n",
        "    X_test = pd.read_csv('./human_activity/test/X_test.txt',sep='\\s+', names=feature_name)\n",
        "    \n",
        "    # 학습 레이블과 테스트 레이블 데이터을 DataFrame으로 로딩하고 컬럼명은 action으로 부여\n",
        "    y_train = pd.read_csv('./human_activity/train/y_train.txt',sep='\\s+',header=None,names=['action'])\n",
        "    y_test = pd.read_csv('./human_activity/test/y_test.txt',sep='\\s+',header=None,names=['action'])\n",
        "    \n",
        "    # 로드된 학습/테스트용 DataFrame을 모두 반환 \n",
        "    return X_train, X_test, y_train, y_test"
      ]
    },
    {
      "cell_type": "code",
      "execution_count": 4,
      "metadata": {},
      "outputs": [
        {
          "name": "stdout",
          "output_type": "stream",
          "text": [
            "## 학습 피처 데이터 정보 ##\n",
            "<class 'pandas.core.frame.DataFrame'>\n",
            "RangeIndex: 7352 entries, 0 to 7351\n",
            "Columns: 561 entries, tBodyAcc-mean()-X to angle(Z,gravityMean)\n",
            "dtypes: float64(561)\n",
            "memory usage: 31.5 MB\n",
            "None\n"
          ]
        }
      ],
      "source": [
        "import pandas as pd\n",
        "import warnings\n",
        "warnings.filterwarnings('ignore')\n",
        "\n",
        "# 결정 트리에서 사용한 get_human_dataset( )을 이용해 학습/테스트용 DataFrame 반환\n",
        "X_train, X_test, y_train, y_test = get_human_dataset()\n",
        "\n",
        "print(\"## 학습 피처 데이터 정보 ##\")\n",
        "print(X_train.info())"
      ]
    },
    {
      "cell_type": "code",
      "execution_count": 14,
      "metadata": {},
      "outputs": [
        {
          "name": "stdout",
          "output_type": "stream",
          "text": [
            "랜덤 포레스트 정확도: 0.9253\n",
            "**** Confusion Matrix ****\n",
            "[[486   4   6   0   0   0]\n",
            " [ 38 426   7   0   0   0]\n",
            " [ 22  44 354   0   0   0]\n",
            " [  0   0   0 440  51   0]\n",
            " [  0   0   0  48 484   0]\n",
            " [  0   0   0   0   0 537]]\n",
            "**** Classification Report ****\n",
            "              precision    recall  f1-score   support\n",
            "\n",
            "           1       0.89      0.98      0.93       496\n",
            "           2       0.90      0.90      0.90       471\n",
            "           3       0.96      0.84      0.90       420\n",
            "           4       0.90      0.90      0.90       491\n",
            "           5       0.90      0.91      0.91       532\n",
            "           6       1.00      1.00      1.00       537\n",
            "\n",
            "    accuracy                           0.93      2947\n",
            "   macro avg       0.93      0.92      0.92      2947\n",
            "weighted avg       0.93      0.93      0.93      2947\n",
            "\n"
          ]
        }
      ],
      "source": [
        "from sklearn.ensemble import RandomForestClassifier\n",
        "from sklearn.metrics import accuracy_score\n",
        "from sklearn.metrics import confusion_matrix\n",
        "# 랜덤 포레스트\n",
        "\n",
        "rf = RandomForestClassifier(random_state=0)\n",
        "rf.fit(X_train , y_train)\n",
        "\n",
        "pred_rf = rf.predict(X_test)\n",
        "accuracy_rf = accuracy_score(y_test , pred_rf)\n",
        "\n",
        "print('랜덤 포레스트 정확도: {0:.4f}'.format(accuracy_rf))\n",
        "print(\"**** Confusion Matrix ****\")\n",
        "print(confusion_matrix(y_test, pred_rf))\n",
        "print(\"**** Classification Report ****\")\n",
        "print(classification_report(y_test, pred_rf))"
      ]
    },
    {
      "cell_type": "code",
      "execution_count": 15,
      "metadata": {},
      "outputs": [
        {
          "name": "stdout",
          "output_type": "stream",
          "text": [
            "로지스틱 회귀 정확도: 0.9579\n",
            "**** Confusion Matrix ****\n",
            "[[492   1   3   0   0   0]\n",
            " [ 24 445   2   0   0   0]\n",
            " [  4  14 402   0   0   0]\n",
            " [  0   3   0 431  57   0]\n",
            " [  0   0   0  16 516   0]\n",
            " [  0   0   0   0   0 537]]\n",
            "**** Classification Report ****\n",
            "              precision    recall  f1-score   support\n",
            "\n",
            "           1       0.95      0.99      0.97       496\n",
            "           2       0.96      0.94      0.95       471\n",
            "           3       0.99      0.96      0.97       420\n",
            "           4       0.96      0.88      0.92       491\n",
            "           5       0.90      0.97      0.93       532\n",
            "           6       1.00      1.00      1.00       537\n",
            "\n",
            "    accuracy                           0.96      2947\n",
            "   macro avg       0.96      0.96      0.96      2947\n",
            "weighted avg       0.96      0.96      0.96      2947\n",
            "\n"
          ]
        }
      ],
      "source": [
        "# 로지스틱 회귀\n",
        "from sklearn.linear_model import LogisticRegression\n",
        "\n",
        "lr = LogisticRegression(random_state=0)\n",
        "lr.fit(X_train, y_train)\n",
        "\n",
        "pred_lr = lr.predict(X_test)\n",
        "accuracy_lr = accuracy_score(y_test , pred_lr)\n",
        "\n",
        "print('로지스틱 회귀 정확도: {0:.4f}'.format(accuracy_lr))\n",
        "print(\"**** Confusion Matrix ****\")\n",
        "print(confusion_matrix(y_test, pred_lr))\n",
        "print(\"**** Classification Report ****\")\n",
        "print(classification_report(y_test, pred_lr))"
      ]
    },
    {
      "cell_type": "code",
      "execution_count": 16,
      "metadata": {},
      "outputs": [
        {
          "name": "stdout",
          "output_type": "stream",
          "text": [
            "결정트리 정확도: 0.8595\n",
            "**** Confusion Matrix ****\n",
            "[[448  24  24   0   0   0]\n",
            " [ 74 367  30   0   0   0]\n",
            " [ 23  46 351   0   0   0]\n",
            " [  0   0   0 373 118   0]\n",
            " [  0   0   0  75 457   0]\n",
            " [  0   0   0   0   0 537]]\n",
            "**** Classification Report ****\n",
            "              precision    recall  f1-score   support\n",
            "\n",
            "           1       0.82      0.90      0.86       496\n",
            "           2       0.84      0.78      0.81       471\n",
            "           3       0.87      0.84      0.85       420\n",
            "           4       0.83      0.76      0.79       491\n",
            "           5       0.79      0.86      0.83       532\n",
            "           6       1.00      1.00      1.00       537\n",
            "\n",
            "    accuracy                           0.86      2947\n",
            "   macro avg       0.86      0.86      0.86      2947\n",
            "weighted avg       0.86      0.86      0.86      2947\n",
            "\n"
          ]
        }
      ],
      "source": [
        "# 결정트리\n",
        "from sklearn.metrics import accuracy_score\n",
        "from sklearn.metrics import confusion_matrix\n",
        "from sklearn.tree import DecisionTreeClassifier\n",
        "\n",
        "dt = DecisionTreeClassifier(random_state=0)\n",
        "dt.fit(X_train, y_train)\n",
        "\n",
        "pred_dt = dt.predict(X_test)\n",
        "accuracy_dt = accuracy_score(y_test , pred_dt)\n",
        "\n",
        "print('결정트리 정확도: {0:.4f}'.format(accuracy_dt))\n",
        "print(\"**** Confusion Matrix ****\")\n",
        "print(confusion_matrix(y_test, pred_dt))\n",
        "print(\"**** Classification Report ****\")\n",
        "print(classification_report(y_test, pred_dt))"
      ]
    },
    {
      "cell_type": "code",
      "execution_count": 17,
      "metadata": {},
      "outputs": [
        {
          "name": "stdout",
          "output_type": "stream",
          "text": [
            "서포트 벡터 머신 정확도: 0.9505\n",
            "**** Confusion Matrix ****\n",
            "[[488   5   3   0   0   0]\n",
            " [ 20 451   0   0   0   0]\n",
            " [ 10  26 384   0   0   0]\n",
            " [  0   2   0 438  51   0]\n",
            " [  0   0   0  29 503   0]\n",
            " [  0   0   0   0   0 537]]\n",
            "**** Classification Report ****\n",
            "              precision    recall  f1-score   support\n",
            "\n",
            "           1       0.94      0.98      0.96       496\n",
            "           2       0.93      0.96      0.94       471\n",
            "           3       0.99      0.91      0.95       420\n",
            "           4       0.94      0.89      0.91       491\n",
            "           5       0.91      0.95      0.93       532\n",
            "           6       1.00      1.00      1.00       537\n",
            "\n",
            "    accuracy                           0.95      2947\n",
            "   macro avg       0.95      0.95      0.95      2947\n",
            "weighted avg       0.95      0.95      0.95      2947\n",
            "\n"
          ]
        }
      ],
      "source": [
        "# 서포트 벡터 머신\n",
        "from sklearn.svm import SVC\n",
        "\n",
        "svm = SVC(random_state=0)\n",
        "svm.fit(X_train, y_train)\n",
        "\n",
        "pred_svm = svm.predict(X_test)\n",
        "accuracy_svm = accuracy_score(y_test , pred_svm)\n",
        "\n",
        "print('서포트 벡터 머신 정확도: {0:.4f}'.format(accuracy_svm))\n",
        "print(\"**** Confusion Matrix ****\")\n",
        "print(confusion_matrix(y_test, pred_svm))\n",
        "print(\"**** Classification Report ****\")\n",
        "print(classification_report(y_test, pred_svm))"
      ]
    },
    {
      "cell_type": "code",
      "execution_count": 19,
      "metadata": {},
      "outputs": [
        {
          "name": "stdout",
          "output_type": "stream",
          "text": [
            "선형 서포트벡터 머신 정확도: 0.9505\n",
            "**** Confusion Matrix ****\n",
            "[[496   0   0   0   0   0]\n",
            " [ 17 454   0   0   0   0]\n",
            " [  2   6 412   0   0   0]\n",
            " [  0   3   0 429  57   2]\n",
            " [  1   0   0  12 519   0]\n",
            " [  0   0   0   0   0 537]]\n",
            "**** Classification Report ****\n",
            "              precision    recall  f1-score   support\n",
            "\n",
            "           1       0.96      1.00      0.98       496\n",
            "           2       0.98      0.96      0.97       471\n",
            "           3       1.00      0.98      0.99       420\n",
            "           4       0.97      0.87      0.92       491\n",
            "           5       0.90      0.98      0.94       532\n",
            "           6       1.00      1.00      1.00       537\n",
            "\n",
            "    accuracy                           0.97      2947\n",
            "   macro avg       0.97      0.97      0.97      2947\n",
            "weighted avg       0.97      0.97      0.97      2947\n",
            "\n"
          ]
        }
      ],
      "source": [
        "# linearSVM\n",
        "\n",
        "from sklearn.svm import LinearSVC\n",
        "\n",
        "lsvm = LinearSVC(random_state=0)\n",
        "lsvm.fit(X_train, y_train)\n",
        "\n",
        "pred_lsvm = lsvm.predict(X_test)\n",
        "accuracy_lsvm = accuracy_score(y_test , pred_svm)\n",
        "\n",
        "print('선형 서포트벡터 머신 정확도: {0:.4f}'.format(accuracy_lsvm))\n",
        "print(\"**** Confusion Matrix ****\")\n",
        "print(confusion_matrix(y_test, pred_lsvm))\n",
        "print(\"**** Classification Report ****\")\n",
        "print(classification_report(y_test, pred_lsvm))"
      ]
    }
  ],
  "metadata": {
    "colab": {
      "authorship_tag": "ABX9TyMm/DpFfSeNPNcAk9yBGjoi",
      "collapsed_sections": [
        "HGBepz0q-lfY",
        "NxBLgeuLA8xS",
        "Vpyoslro1zie",
        "yDowZCTIP9Ht",
        "R-H04c6mTkDB"
      ],
      "include_colab_link": true,
      "name": "CNN and LSTM for Human Activity Recognition.ipynb",
      "provenance": []
    },
    "kernelspec": {
      "display_name": "Python 3",
      "name": "python3"
    },
    "language_info": {
      "codemirror_mode": {
        "name": "ipython",
        "version": 3
      },
      "file_extension": ".py",
      "mimetype": "text/x-python",
      "name": "python",
      "nbconvert_exporter": "python",
      "pygments_lexer": "ipython3",
      "version": "3.9.17"
    }
  },
  "nbformat": 4,
  "nbformat_minor": 0
}
