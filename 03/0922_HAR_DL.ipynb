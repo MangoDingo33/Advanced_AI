{
  "nbformat": 4,
  "nbformat_minor": 0,
  "metadata": {
    "colab": {
      "provenance": [],
      "collapsed_sections": [
        "HGBepz0q-lfY",
        "NxBLgeuLA8xS",
        "Vpyoslro1zie",
        "yDowZCTIP9Ht",
        "R-H04c6mTkDB"
      ],
      "include_colab_link": true
    },
    "kernelspec": {
      "name": "python3",
      "display_name": "Python 3"
    },
    "language_info": {
      "name": "python"
    }
  },
  "cells": [
    {
      "cell_type": "markdown",
      "metadata": {
        "id": "view-in-github",
        "colab_type": "text"
      },
      "source": [
        "<a href=\"https://colab.research.google.com/github/MangoDingo33/Advanced_AI/blob/main/03/0922_HAR_DL.ipynb\" target=\"_parent\"><img src=\"https://colab.research.google.com/assets/colab-badge.svg\" alt=\"Open In Colab\"/></a>"
      ]
    },
    {
      "cell_type": "markdown",
      "metadata": {
        "id": "HGBepz0q-lfY"
      },
      "source": [
        "##Importing the libraries\n",
        "\n",
        "Load required libraries for modeling and data processing"
      ]
    },
    {
      "cell_type": "code",
      "metadata": {
        "id": "LmJZAAI28-yb"
      },
      "source": [
        "import numpy as np\n",
        "from numpy import mean\n",
        "from numpy import std\n",
        "from numpy import dstack\n",
        "from pandas import read_csv\n",
        "from keras.models import Sequential\n",
        "from keras.layers import Dense\n",
        "from keras.layers import Flatten\n",
        "from keras.layers import Dropout\n",
        "from keras.layers import LSTM\n",
        "from keras.layers import Conv1D\n",
        "from keras.layers import MaxPooling1D\n",
        "from keras.layers import Bidirectional, GRU\n",
        "from keras.utils import to_categorical\n",
        "from matplotlib import pyplot\n",
        "import matplotlib.pyplot as plt\n",
        "from keras.utils import plot_model\n",
        "import keras\n",
        "import zipfile\n",
        "from sklearn.metrics import confusion_matrix, classification_report\n",
        "import seaborn as sns\n",
        "# set seed to reproduce similar results\n",
        "np.random.seed(0)"
      ],
      "execution_count": 62,
      "outputs": []
    },
    {
      "cell_type": "markdown",
      "metadata": {
        "id": "NxBLgeuLA8xS"
      },
      "source": [
        "## Load data from google drive"
      ]
    },
    {
      "cell_type": "markdown",
      "metadata": {
        "id": "0UvCLvsOiqXt"
      },
      "source": [
        "Libraries to load data from google drive shared location."
      ]
    },
    {
      "cell_type": "code",
      "metadata": {
        "id": "SPtLutwPJBd1"
      },
      "source": [
        "!pip install -U -q PyDrive\n",
        "from pydrive.auth import GoogleAuth\n",
        "from pydrive.drive import GoogleDrive\n",
        "from google.colab import auth\n",
        "from oauth2client.client import GoogleCredentials"
      ],
      "execution_count": 63,
      "outputs": []
    },
    {
      "cell_type": "markdown",
      "metadata": {
        "id": "vdqYvHbjis_r"
      },
      "source": [
        "Authenticate and create the python document (PyDrive) client."
      ]
    },
    {
      "cell_type": "code",
      "metadata": {
        "id": "9jRax61O-_tZ"
      },
      "source": [
        "auth.authenticate_user()\n",
        "gauth = GoogleAuth()\n",
        "gauth.credentials = GoogleCredentials.get_application_default()\n",
        "drive = GoogleDrive(gauth)"
      ],
      "execution_count": 64,
      "outputs": []
    },
    {
      "cell_type": "markdown",
      "metadata": {
        "id": "_56xx0ySiwHX"
      },
      "source": [
        "When prompted, click on the link to get authentication to allow Google to access your Drive. You should see a screen with “Google Cloud SDK wants to access your Google Account” at the top. After you allow permission, copy the given verification code and paste it in the box in Colab."
      ]
    },
    {
      "cell_type": "code",
      "metadata": {
        "id": "bDT3g8jzJFDw"
      },
      "source": [
        "\n",
        "dataset_file_id = '1xnD6OXIMNOChR4V9DKO-Jjsb7QNMUjc0'"
      ],
      "execution_count": 65,
      "outputs": []
    },
    {
      "cell_type": "markdown",
      "metadata": {
        "id": "-sQ6Z2VzizBC"
      },
      "source": [
        "\n",
        "Download the dataset file."
      ]
    },
    {
      "cell_type": "code",
      "metadata": {
        "id": "kfP_7p-hK34i"
      },
      "source": [
        "downloaded = drive.CreateFile({'id':dataset_file_id})\n",
        "downloaded.GetContentFile('UCI HAR Dataset.zip')"
      ],
      "execution_count": 66,
      "outputs": []
    },
    {
      "cell_type": "markdown",
      "metadata": {
        "id": "YlPhu73wi0Oi"
      },
      "source": [
        "Unzip the data to the same directory"
      ]
    },
    {
      "cell_type": "code",
      "metadata": {
        "id": "uzUlL41bLGxj",
        "colab": {
          "base_uri": "https://localhost:8080/"
        },
        "outputId": "8ecc556b-20f4-4b10-90a1-e2b9129c2bfc"
      },
      "source": [
        "!unzip \"/content/UCI HAR Dataset.zip\" -d \"/content/\""
      ],
      "execution_count": 67,
      "outputs": [
        {
          "output_type": "stream",
          "name": "stdout",
          "text": [
            "Archive:  /content/UCI HAR Dataset.zip\n",
            "replace /content/UCI HAR Dataset/.DS_Store? [y]es, [n]o, [A]ll, [N]one, [r]ename: "
          ]
        }
      ]
    },
    {
      "cell_type": "markdown",
      "metadata": {
        "id": "9kxJQjlti7HY"
      },
      "source": [
        "Helper functions to load and split train and test data"
      ]
    },
    {
      "cell_type": "code",
      "metadata": {
        "id": "3m-s15_wL6nY"
      },
      "source": [
        "# load a single file as a numpy array\n",
        "def load_file(filepath):\n",
        "    dataframe = read_csv(filepath, header=None, delim_whitespace=True)\n",
        "    return dataframe.values\n",
        "\n",
        "# load a list of files and return as a 3d numpy array\n",
        "def load_group(filenames, prefix=''):\n",
        "\tloaded = list()\n",
        "\tfor name in filenames:\n",
        "\t\tdata = load_file(prefix + name)\n",
        "\t\tloaded.append(data)\n",
        "\t# stack group so that features are the 3rd dimension\n",
        "\tloaded = dstack(loaded)\n",
        "\treturn loaded\n",
        "\n",
        "# load a dataset group, such as train or test\n",
        "def load_dataset_group(group, prefix=''):\n",
        "\tfilepath = prefix + group + '/Inertial Signals/'\n",
        "\t# load all 9 files as a single array\n",
        "\tfilenames = list()\n",
        "\t# total acceleration\n",
        "\tfilenames += ['total_acc_x_'+group+'.txt', 'total_acc_y_'+group+'.txt', 'total_acc_z_'+group+'.txt']\n",
        "\t# body acceleration\n",
        "\tfilenames += ['body_acc_x_'+group+'.txt', 'body_acc_y_'+group+'.txt', 'body_acc_z_'+group+'.txt']\n",
        "\t# body gyroscope\n",
        "\tfilenames += ['body_gyro_x_'+group+'.txt', 'body_gyro_y_'+group+'.txt', 'body_gyro_z_'+group+'.txt']\n",
        "\t# load input data\n",
        "\tX = load_group(filenames, filepath)\n",
        "\t# load class output\n",
        "\ty = load_file(prefix + group + '/y_'+group+'.txt')\n",
        "\treturn X, y\n",
        "\n",
        "# load the dataset, returns train and test X and y elements\n",
        "def load_dataset(prefix=''):\n",
        "    # load all train\n",
        "    trainX, trainy = load_dataset_group('train', prefix + 'UCI HAR Dataset/')\n",
        "    # load all test\n",
        "    testX, testy = load_dataset_group('test', prefix + 'UCI HAR Dataset/')\n",
        "    # zero-offset class values\n",
        "    trainy = trainy - 1\n",
        "    testy = testy - 1\n",
        "    # one hot encode y\n",
        "    trainy = to_categorical(trainy)\n",
        "    testy = to_categorical(testy)\n",
        "    print(\"trainX shape: \",trainX.shape)\n",
        "    print(\"trainy shape: \", trainy.shape)\n",
        "    print(\"testX shape: \", testX.shape)\n",
        "    print(\"testy shape: \", testy.shape)\n",
        "    return trainX, trainy, testX, testy"
      ],
      "execution_count": 68,
      "outputs": []
    },
    {
      "cell_type": "markdown",
      "metadata": {
        "id": "ROBYvzz_jjaQ"
      },
      "source": [
        "For training data we have 7352 different samples, where one sample is one window of the time series data, each window has 128 time steps, and a time step has nine variables or features.\n",
        "\n",
        "Similarly for testing data we have 2947 different samples."
      ]
    },
    {
      "cell_type": "code",
      "metadata": {
        "id": "fiB1z9ciNU4d",
        "colab": {
          "base_uri": "https://localhost:8080/"
        },
        "outputId": "00089967-b364-4167-ce93-e4255a4cf879"
      },
      "source": [
        "trainX, trainy, testX, testy = load_dataset()"
      ],
      "execution_count": 69,
      "outputs": [
        {
          "output_type": "stream",
          "name": "stdout",
          "text": [
            "trainX shape:  (7352, 128, 9)\n",
            "trainy shape:  (7352, 6)\n",
            "testX shape:  (2947, 128, 9)\n",
            "testy shape:  (2947, 6)\n"
          ]
        }
      ]
    },
    {
      "cell_type": "markdown",
      "metadata": {
        "id": "Vpyoslro1zie"
      },
      "source": [
        "## Explore the data\n",
        "\n",
        "\n"
      ]
    },
    {
      "cell_type": "markdown",
      "metadata": {
        "id": "S3tWXRvEBLY8"
      },
      "source": [
        "In this dataset we have the following 9 features:\n",
        "\n",
        "\n",
        "1.   Total Acceleration x\n",
        "2.   Total Acceleration y\n",
        "3.   Total Acceleration z\n",
        "4.   Body Acceleration x\n",
        "5.   Body Acceleration y\n",
        "6.   Body Acceleration z\n",
        "7.   Body Gyroscope x\n",
        "8.   Body Gyroscope y\n",
        "9.   Body Gyroscope z\n"
      ]
    },
    {
      "cell_type": "code",
      "metadata": {
        "id": "X5jtI9_n1y3X"
      },
      "source": [
        "# Helper function to plot distribution of the features\n",
        "def plot_distributions(trainX):\n",
        "\t# remove overlap\n",
        "\tcut = int(trainX.shape[1] / 2)\n",
        "\tlongX = trainX[:, -cut:, :]\n",
        "\t# flatten windows\n",
        "\tlongX = longX.reshape((longX.shape[0] * longX.shape[1], longX.shape[2]))\n",
        "\tprint(longX.shape)\n",
        "\tpyplot.figure()\n",
        "\txaxis = None\n",
        "\tfor i in range(longX.shape[1]):\n",
        "\t\tax = pyplot.subplot(longX.shape[1], 1, i+1, sharex=xaxis)\n",
        "\t\tax.set_xlim(-1, 1)\n",
        "\t\tif i == 0:\n",
        "\t\t\txaxis = ax\n",
        "\t\tpyplot.hist(longX[:, i], bins=100)\n",
        "\tpyplot.show()"
      ],
      "execution_count": 70,
      "outputs": []
    },
    {
      "cell_type": "code",
      "metadata": {
        "id": "jGcrbI0R2nLr",
        "colab": {
          "base_uri": "https://localhost:8080/",
          "height": 0
        },
        "outputId": "e7d8b70a-91eb-4c4e-f136-b386fc84f9d0"
      },
      "source": [
        "# plot distributions\n",
        "plot_distributions(trainX)"
      ],
      "execution_count": 71,
      "outputs": [
        {
          "output_type": "stream",
          "name": "stdout",
          "text": [
            "(470528, 9)\n"
          ]
        },
        {
          "output_type": "display_data",
          "data": {
            "text/plain": [
              "<Figure size 640x480 with 9 Axes>"
            ],
            "image/png": "[encoded data removed]"
          },
          "metadata": {}
        }
      ]
    },
    {
      "cell_type": "markdown",
      "metadata": {
        "id": "HElEpGi7B680"
      },
      "source": [
        "We can see that all variables except \"Total Acceleration x\" behave like normal distributions."
      ]
    },
    {
      "cell_type": "markdown",
      "metadata": {
        "id": "aJmeQf3UP6yC"
      },
      "source": [
        "## Building the models\n",
        "\n",
        "In this workshop, we will develop 2 deep learning models and evaluate the classification accuracy.\n",
        "\n",
        "\n",
        "\n",
        "1.   LSTM model\n",
        "2.   CNN model\n",
        "\n"
      ]
    },
    {
      "cell_type": "markdown",
      "metadata": {
        "id": "M-6-CazrkSHB"
      },
      "source": [
        "Set common parameters across all the models"
      ]
    },
    {
      "cell_type": "code",
      "metadata": {
        "id": "Ysi2Qik7ULJk"
      },
      "source": [
        "## set number of epochs and batch size\n",
        "batch_size = 64\n",
        "validation_split = 0.2"
      ],
      "execution_count": 72,
      "outputs": []
    },
    {
      "cell_type": "markdown",
      "metadata": {
        "id": "NdJzbgyZv4QO"
      },
      "source": [
        "### BiLSTM model"
      ]
    },
    {
      "cell_type": "code",
      "metadata": {
        "colab": {
          "base_uri": "https://localhost:8080/",
          "height": 0
        },
        "outputId": "1d16f46d-6343-4a4a-e66a-c3ef77e6b86e",
        "id": "kzl19ENgv4QP"
      },
      "source": [
        "n_timesteps, n_features, n_outputs = trainX.shape[1], trainX.shape[2], trainy.shape[1]\n",
        "model = Sequential()\n",
        "model.add(Bidirectional(LSTM(100), input_shape=(n_timesteps, n_features)))\n",
        "model.add(Dropout(0.5))\n",
        "model.add(Dense(100, activation='relu'))\n",
        "model.add(Dense(n_outputs, activation='softmax'))\n",
        "plot_model(model, show_shapes=True, show_layer_names=True)\n"
      ],
      "execution_count": 73,
      "outputs": [
        {
          "output_type": "execute_result",
          "data": {
            "image/png": "[encoded data removed]",
            "text/plain": [
              "<IPython.core.display.Image object>"
            ]
          },
          "metadata": {},
          "execution_count": 73
        }
      ]
    },
    {
      "cell_type": "markdown",
      "metadata": {
        "id": "JS1cplagv4QP"
      },
      "source": [
        "Compile the model with [categorical_crossentropy](https://keras.io/api/losses/probabilistic_losses/#categoricalcrossentropy-class) loss function and [ADAM optimizer](https://keras.io/api/optimizers/)."
      ]
    },
    {
      "cell_type": "code",
      "metadata": {
        "id": "sjupIEc-v4QQ"
      },
      "source": [
        "model.compile(loss='categorical_crossentropy', optimizer='adam', metrics=['accuracy'])"
      ],
      "execution_count": 74,
      "outputs": []
    },
    {
      "cell_type": "markdown",
      "metadata": {
        "id": "MqwX14Iiv4QQ"
      },
      "source": [
        "\n",
        "Train the model"
      ]
    },
    {
      "cell_type": "code",
      "metadata": {
        "colab": {
          "base_uri": "https://localhost:8080/"
        },
        "outputId": "53402307-9c6a-43b6-c3df-78e23576c07d",
        "id": "gOsxfECMv4QQ"
      },
      "source": [
        "# fit network\n",
        "train_epochs = 10\n",
        "history = model.fit(trainX, trainy, epochs=train_epochs, batch_size=batch_size, verbose=True,  validation_split=validation_split, shuffle=True)"
      ],
      "execution_count": null,
      "outputs": [
        {
          "output_type": "stream",
          "name": "stdout",
          "text": [
            "Epoch 1/10\n",
            "56/92 [=================>............] - ETA: 10s - loss: 1.2784 - accuracy: 0.4587"
          ]
        }
      ]
    },
    {
      "cell_type": "markdown",
      "metadata": {
        "id": "OBM1eVpfv4QQ"
      },
      "source": [
        "Visualize the training process (loss) w.r.t train set and the validation set"
      ]
    },
    {
      "cell_type": "code",
      "metadata": {
        "id": "WKOYYPaKv4QQ"
      },
      "source": [
        "plt.plot(history.history['loss'])\n",
        "plt.plot(history.history['val_loss'])\n",
        "plt.title('model loss')\n",
        "plt.ylabel('loss')\n",
        "plt.xlabel('epoch')\n",
        "plt.legend(['train', 'Validation'], loc='upper left')"
      ],
      "execution_count": null,
      "outputs": []
    },
    {
      "cell_type": "markdown",
      "metadata": {
        "id": "y71xrQEsv4QR"
      },
      "source": [
        "Evaluate the LSTM model"
      ]
    },
    {
      "cell_type": "code",
      "metadata": {
        "id": "KsnCKv8Tv4QR"
      },
      "source": [
        "# evaluate model\n",
        "test_loss, test_accuracy = model.evaluate(testX, testy, batch_size=batch_size, verbose=0)\n",
        "print(\"Accuracy of the BiLSTM model\", test_accuracy)\n",
        "# Get the predictions for the test set\n",
        "predictions = model.predict(testX)"
      ],
      "execution_count": null,
      "outputs": []
    },
    {
      "cell_type": "code",
      "metadata": {
        "id": "RfalzX_Wv4QR"
      },
      "source": [
        "predictions"
      ],
      "execution_count": null,
      "outputs": []
    },
    {
      "cell_type": "markdown",
      "metadata": {
        "id": "POER43fcv4QR"
      },
      "source": [
        "helper function to display results"
      ]
    },
    {
      "cell_type": "code",
      "metadata": {
        "id": "-efZAJF9v4QR"
      },
      "source": [
        "def display_results(testy,predictions,classNames):\n",
        "    y_test=np.argmax(testy, axis=1)\n",
        "    y_scores=np.argmax(predictions, axis=1)\n",
        "    classes = len(classNames)\n",
        "    cm = confusion_matrix(y_test, y_scores)\n",
        "    print(\"**** Confusion Matrix ****\")\n",
        "    print(cm)\n",
        "    print(\"**** Classification Report ****\")\n",
        "    print(classification_report(y_test, y_scores, target_names=classNames))\n",
        "    con = np.zeros((classes,classes))\n",
        "    for x in range(classes):\n",
        "        for y in range(classes):\n",
        "            con[x,y] = cm[x,y] #/np.sum(cm[x,:])\n",
        "\n",
        "    plt.figure(figsize=(10,8))\n",
        "    df = sns.heatmap(con, annot=True, fmt='g', cmap='Blues',xticklabels= classNames , yticklabels= classNames)\n",
        "    plt.xlabel('Predicted')\n",
        "    plt.ylabel('Actual')\n",
        "    plt.show()"
      ],
      "execution_count": null,
      "outputs": []
    },
    {
      "cell_type": "code",
      "metadata": {
        "id": "9KqPxHiqv4QR"
      },
      "source": [
        "classNames=[\"1\",\"2\",\"3\",\"4\",\"5\",\"6\"]\n",
        "display_results(testy,predictions,classNames)"
      ],
      "execution_count": null,
      "outputs": []
    },
    {
      "cell_type": "markdown",
      "metadata": {
        "id": "yDowZCTIP9Ht"
      },
      "source": [
        "### GRU model"
      ]
    },
    {
      "cell_type": "code",
      "metadata": {
        "id": "5k_E2WdFNakv"
      },
      "source": [
        "n_timesteps, n_features, n_outputs = trainX.shape[1], trainX.shape[2], trainy.shape[1]\n",
        "model = Sequential()\n",
        "model.add(GRU(100, input_shape=(n_timesteps,n_features)))\n",
        "model.add(Dropout(0.5))\n",
        "model.add(Dense(100, activation='relu'))\n",
        "model.add(Dense(n_outputs, activation='softmax'))\n",
        "plot_model(model, show_shapes=True, show_layer_names=True)"
      ],
      "execution_count": null,
      "outputs": []
    },
    {
      "cell_type": "markdown",
      "metadata": {
        "id": "Dxh6OJ4clsYK"
      },
      "source": [
        "Compile the model with [categorical_crossentropy](https://keras.io/api/losses/probabilistic_losses/#categoricalcrossentropy-class) loss function and [ADAM optimizer](https://keras.io/api/optimizers/)."
      ]
    },
    {
      "cell_type": "code",
      "metadata": {
        "id": "d37n4LaWloqq"
      },
      "source": [
        "model.compile(loss='categorical_crossentropy', optimizer='adam', metrics=['accuracy'])"
      ],
      "execution_count": null,
      "outputs": []
    },
    {
      "cell_type": "markdown",
      "metadata": {
        "id": "-pzCzBq8mIFD"
      },
      "source": [
        "\n",
        "Train the model"
      ]
    },
    {
      "cell_type": "code",
      "metadata": {
        "id": "thBjP-SAlrML",
        "colab": {
          "base_uri": "https://localhost:8080/"
        },
        "outputId": "19ed4403-fd5c-4fba-883f-64dfd62224ae"
      },
      "source": [
        "# fit network\n",
        "train_epochs = 10\n",
        "history = model.fit(trainX, trainy, epochs=train_epochs, batch_size=batch_size, verbose=True,  validation_split=validation_split, shuffle=True)"
      ],
      "execution_count": 56,
      "outputs": [
        {
          "output_type": "stream",
          "name": "stdout",
          "text": [
            "Epoch 1/10\n",
            "92/92 [==============================] - 32s 311ms/step - loss: 1.2605 - accuracy: 0.4696 - val_loss: 1.1209 - val_accuracy: 0.5207\n",
            "Epoch 2/10\n",
            "92/92 [==============================] - 27s 288ms/step - loss: 0.9482 - accuracy: 0.5929 - val_loss: 0.8688 - val_accuracy: 0.6621\n",
            "Epoch 3/10\n",
            "92/92 [==============================] - 19s 205ms/step - loss: 0.6781 - accuracy: 0.7235 - val_loss: 0.5429 - val_accuracy: 0.8056\n",
            "Epoch 4/10\n",
            "92/92 [==============================] - 19s 206ms/step - loss: 0.4321 - accuracy: 0.8308 - val_loss: 0.3853 - val_accuracy: 0.8722\n",
            "Epoch 5/10\n",
            "92/92 [==============================] - 31s 338ms/step - loss: 0.2710 - accuracy: 0.9066 - val_loss: 0.3298 - val_accuracy: 0.8953\n",
            "Epoch 6/10\n",
            "92/92 [==============================] - 28s 309ms/step - loss: 0.1867 - accuracy: 0.9316 - val_loss: 0.3421 - val_accuracy: 0.8987\n",
            "Epoch 7/10\n",
            "92/92 [==============================] - 17s 183ms/step - loss: 0.1873 - accuracy: 0.9296 - val_loss: 0.4032 - val_accuracy: 0.8756\n",
            "Epoch 8/10\n",
            "92/92 [==============================] - 21s 224ms/step - loss: 0.1676 - accuracy: 0.9381 - val_loss: 0.2520 - val_accuracy: 0.9245\n",
            "Epoch 9/10\n",
            "92/92 [==============================] - 16s 178ms/step - loss: 0.1375 - accuracy: 0.9503 - val_loss: 0.2355 - val_accuracy: 0.9307\n",
            "Epoch 10/10\n",
            "92/92 [==============================] - 17s 189ms/step - loss: 0.1367 - accuracy: 0.9456 - val_loss: 0.2235 - val_accuracy: 0.9245\n"
          ]
        }
      ]
    },
    {
      "cell_type": "markdown",
      "metadata": {
        "id": "KvH2s8ldmDuL"
      },
      "source": [
        "Visualize the training process (loss) w.r.t train set and the validation set"
      ]
    },
    {
      "cell_type": "code",
      "metadata": {
        "id": "xFw9ju5zSBD4",
        "colab": {
          "base_uri": "https://localhost:8080/",
          "height": 490
        },
        "outputId": "244775f3-5240-4d3b-90ae-db053c412e38"
      },
      "source": [
        "plt.plot(history.history['loss'])\n",
        "plt.plot(history.history['val_loss'])\n",
        "plt.title('model loss')\n",
        "plt.ylabel('loss')\n",
        "plt.xlabel('epoch')\n",
        "plt.legend(['train', 'Validation'], loc='upper left')"
      ],
      "execution_count": 57,
      "outputs": [
        {
          "output_type": "execute_result",
          "data": {
            "text/plain": [
              "<matplotlib.legend.Legend at 0x7cc0e7596a40>"
            ]
          },
          "metadata": {},
          "execution_count": 57
        },
        {
          "output_type": "display_data",
          "data": {
            "text/plain": [
              "<Figure size 640x480 with 1 Axes>"
            ],
            "image/png": "[encoded data removed]"
          },
          "metadata": {}
        }
      ]
    },
    {
      "cell_type": "markdown",
      "metadata": {
        "id": "iQD1lEQtmlPI"
      },
      "source": [
        "Evaluate the LSTM model"
      ]
    },
    {
      "cell_type": "code",
      "metadata": {
        "id": "T3rgvHGQNcx9",
        "colab": {
          "base_uri": "https://localhost:8080/"
        },
        "outputId": "4477ec00-b3f8-42fc-d182-f3eb251fbf8c"
      },
      "source": [
        "# evaluate model\n",
        "test_loss, test_accuracy = model.evaluate(testX, testy, batch_size=batch_size, verbose=0)\n",
        "print(\"Accuracy of the GRU model\", test_accuracy)\n",
        "# Get the predictions for the test set\n",
        "predictions = model.predict(testX)"
      ],
      "execution_count": 58,
      "outputs": [
        {
          "output_type": "stream",
          "name": "stdout",
          "text": [
            "Accuracy of the GRU model 0.8554462194442749\n",
            "93/93 [==============================] - 4s 40ms/step\n"
          ]
        }
      ]
    },
    {
      "cell_type": "code",
      "metadata": {
        "id": "tOc_QJWlg_uQ",
        "colab": {
          "base_uri": "https://localhost:8080/"
        },
        "outputId": "c9ee5853-143f-40d2-8cb8-7400a1c50757"
      },
      "source": [
        "predictions"
      ],
      "execution_count": 59,
      "outputs": [
        {
          "output_type": "execute_result",
          "data": {
            "text/plain": [
              "array([[2.3448204e-03, 1.5933065e-05, 3.1374202e-05, 1.0375980e-02,\n",
              "        9.8723179e-01, 4.7386614e-08],\n",
              "       [6.2754587e-04, 7.7559434e-06, 1.1221032e-05, 1.3484728e-02,\n",
              "        9.8586875e-01, 3.7459358e-08],\n",
              "       [5.8191986e-04, 7.2558009e-06, 1.0176169e-05, 1.3242472e-02,\n",
              "        9.8615825e-01, 3.5281140e-08],\n",
              "       ...,\n",
              "       [1.4406847e-03, 9.9853432e-01, 2.5032276e-05, 7.3458330e-11,\n",
              "        2.2800112e-08, 1.1266998e-12],\n",
              "       [5.3238147e-04, 9.9946183e-01, 5.8279602e-06, 1.5655900e-11,\n",
              "        8.3010132e-09, 2.0389274e-13],\n",
              "       [9.5075718e-04, 9.9904400e-01, 5.1833840e-06, 4.0433171e-11,\n",
              "        2.5147115e-08, 4.4391774e-13]], dtype=float32)"
            ]
          },
          "metadata": {},
          "execution_count": 59
        }
      ]
    },
    {
      "cell_type": "markdown",
      "metadata": {
        "id": "3j-BEtTTjkkX"
      },
      "source": [
        "helper function to display results"
      ]
    },
    {
      "cell_type": "code",
      "metadata": {
        "id": "j13K09Kdg3Wr"
      },
      "source": [
        "def display_results(testy,predictions,classNames):\n",
        "    y_test=np.argmax(testy, axis=1)\n",
        "    y_scores=np.argmax(predictions, axis=1)\n",
        "    classes = len(classNames)\n",
        "    cm = confusion_matrix(y_test, y_scores)\n",
        "    print(\"**** Confusion Matrix ****\")\n",
        "    print(cm)\n",
        "    print(\"**** Classification Report ****\")\n",
        "    print(classification_report(y_test, y_scores, target_names=classNames))\n",
        "    con = np.zeros((classes,classes))\n",
        "    for x in range(classes):\n",
        "        for y in range(classes):\n",
        "            con[x,y] = cm[x,y] #/np.sum(cm[x,:])\n",
        "\n",
        "    plt.figure(figsize=(10,8))\n",
        "    df = sns.heatmap(con, annot=True, fmt='g', cmap='Blues',xticklabels= classNames , yticklabels= classNames)\n",
        "    plt.xlabel('Predicted')\n",
        "    plt.ylabel('Actual')\n",
        "    plt.show()"
      ],
      "execution_count": 60,
      "outputs": []
    },
    {
      "cell_type": "code",
      "metadata": {
        "id": "Q4lDh9g4gicO",
        "colab": {
          "base_uri": "https://localhost:8080/",
          "height": 1000
        },
        "outputId": "dd10b519-745f-4450-ca62-e82ca4c508e2"
      },
      "source": [
        "classNames=[\"1\",\"2\",\"3\",\"4\",\"5\",\"6\"]\n",
        "display_results(testy,predictions,classNames)"
      ],
      "execution_count": 61,
      "outputs": [
        {
          "output_type": "stream",
          "name": "stdout",
          "text": [
            "**** Confusion Matrix ****\n",
            "[[444   5  38   0   9   0]\n",
            " [ 92 335  44   0   0   0]\n",
            " [  6   0 414   0   0   0]\n",
            " [  0   2   5 376 108   0]\n",
            " [  6   0   0  85 441   0]\n",
            " [  0  25   1   0   0 511]]\n",
            "**** Classification Report ****\n",
            "              precision    recall  f1-score   support\n",
            "\n",
            "           1       0.81      0.90      0.85       496\n",
            "           2       0.91      0.71      0.80       471\n",
            "           3       0.82      0.99      0.90       420\n",
            "           4       0.82      0.77      0.79       491\n",
            "           5       0.79      0.83      0.81       532\n",
            "           6       1.00      0.95      0.98       537\n",
            "\n",
            "    accuracy                           0.86      2947\n",
            "   macro avg       0.86      0.86      0.85      2947\n",
            "weighted avg       0.86      0.86      0.85      2947\n",
            "\n"
          ]
        },
        {
          "output_type": "display_data",
          "data": {
            "text/plain": [
              "<Figure size 1000x800 with 2 Axes>"
            ],
            "image/png": "[encoded data removed]"
          },
          "metadata": {}
        }
      ]
    },
    {
      "cell_type": "markdown",
      "metadata": {
        "id": "Vo8qBdXq18GD"
      },
      "source": [
        "### BiGRU model"
      ]
    },
    {
      "cell_type": "code",
      "metadata": {
        "id": "X-p2ZZh418GL"
      },
      "source": [
        "n_timesteps, n_features, n_outputs = trainX.shape[1], trainX.shape[2], trainy.shape[1]\n",
        "model = Sequential()\n",
        "model.add(Bidirectional(GRU(100), input_shape=(n_timesteps, n_features)))\n",
        "model.add(Dropout(0.5))\n",
        "model.add(Dense(100, activation='relu'))\n",
        "model.add(Dense(n_outputs, activation='softmax'))\n",
        "plot_model(model, show_shapes=True, show_layer_names=True)\n"
      ],
      "execution_count": null,
      "outputs": []
    },
    {
      "cell_type": "markdown",
      "metadata": {
        "id": "zuM6em4o18GL"
      },
      "source": [
        "Compile the model with [categorical_crossentropy](https://keras.io/api/losses/probabilistic_losses/#categoricalcrossentropy-class) loss function and [ADAM optimizer](https://keras.io/api/optimizers/)."
      ]
    },
    {
      "cell_type": "code",
      "metadata": {
        "id": "VpJIUSFd18GL"
      },
      "source": [
        "model.compile(loss='categorical_crossentropy', optimizer='adam', metrics=['accuracy'])"
      ],
      "execution_count": null,
      "outputs": []
    },
    {
      "cell_type": "markdown",
      "metadata": {
        "id": "ybsokAxN18GL"
      },
      "source": [
        "\n",
        "Train the model"
      ]
    },
    {
      "cell_type": "code",
      "metadata": {
        "id": "QG-n0pcJ18GL"
      },
      "source": [
        "# fit network\n",
        "train_epochs = 10\n",
        "history = model.fit(trainX, trainy, epochs=train_epochs, batch_size=batch_size, verbose=True,  validation_split=validation_split, shuffle=True)"
      ],
      "execution_count": null,
      "outputs": []
    },
    {
      "cell_type": "markdown",
      "metadata": {
        "id": "VYBZgpWL18GM"
      },
      "source": [
        "Visualize the training process (loss) w.r.t train set and the validation set"
      ]
    },
    {
      "cell_type": "code",
      "metadata": {
        "id": "6pePHZw318GM"
      },
      "source": [
        "plt.plot(history.history['loss'])\n",
        "plt.plot(history.history['val_loss'])\n",
        "plt.title('model loss')\n",
        "plt.ylabel('loss')\n",
        "plt.xlabel('epoch')\n",
        "plt.legend(['train', 'Validation'], loc='upper left')"
      ],
      "execution_count": null,
      "outputs": []
    },
    {
      "cell_type": "markdown",
      "metadata": {
        "id": "_yRAoOU918GM"
      },
      "source": [
        "Evaluate the LSTM model"
      ]
    },
    {
      "cell_type": "code",
      "metadata": {
        "id": "EL-Kjfkg18GM"
      },
      "source": [
        "# evaluate model\n",
        "test_loss, test_accuracy = model.evaluate(testX, testy, batch_size=batch_size, verbose=0)\n",
        "print(\"Accuracy of the BiGRU model\", test_accuracy)\n",
        "# Get the predictions for the test set\n",
        "predictions = model.predict(testX)"
      ],
      "execution_count": null,
      "outputs": []
    },
    {
      "cell_type": "code",
      "metadata": {
        "id": "IpuCjEuJ18GM"
      },
      "source": [
        "predictions"
      ],
      "execution_count": null,
      "outputs": []
    },
    {
      "cell_type": "markdown",
      "metadata": {
        "id": "yemGxYVu18GN"
      },
      "source": [
        "helper function to display results"
      ]
    },
    {
      "cell_type": "code",
      "metadata": {
        "id": "jHdDwoR018GN"
      },
      "source": [
        "def display_results(testy,predictions,classNames):\n",
        "    y_test=np.argmax(testy, axis=1)\n",
        "    y_scores=np.argmax(predictions, axis=1)\n",
        "    classes = len(classNames)\n",
        "    cm = confusion_matrix(y_test, y_scores)\n",
        "    print(\"**** Confusion Matrix ****\")\n",
        "    print(cm)\n",
        "    print(\"**** Classification Report ****\")\n",
        "    print(classification_report(y_test, y_scores, target_names=classNames))\n",
        "    con = np.zeros((classes,classes))\n",
        "    for x in range(classes):\n",
        "        for y in range(classes):\n",
        "            con[x,y] = cm[x,y] #/np.sum(cm[x,:])\n",
        "\n",
        "    plt.figure(figsize=(10,8))\n",
        "    df = sns.heatmap(con, annot=True, fmt='g', cmap='Blues',xticklabels= classNames , yticklabels= classNames)\n",
        "    plt.xlabel('Predicted')\n",
        "    plt.ylabel('Actual')\n",
        "    plt.show()"
      ],
      "execution_count": null,
      "outputs": []
    },
    {
      "cell_type": "code",
      "metadata": {
        "id": "y0qZ9OBa18GN"
      },
      "source": [
        "classNames=[\"1\",\"2\",\"3\",\"4\",\"5\",\"6\"]\n",
        "display_results(testy,predictions,classNames)"
      ],
      "execution_count": null,
      "outputs": []
    }
  ]
}