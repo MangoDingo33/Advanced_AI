{
 "cells": [
  {
   "cell_type": "code",
   "execution_count": 1,
   "id": "16680d7a",
   "metadata": {},
   "outputs": [
    {
     "name": "stderr",
     "output_type": "stream",
     "text": [
      "2023-11-17 02:16:02.136075: I tensorflow/core/platform/cpu_feature_guard.cc:182] This TensorFlow binary is optimized to use available CPU instructions in performance-critical operations.\n",
      "To enable the following instructions: AVX2 FMA, in other operations, rebuild TensorFlow with the appropriate compiler flags.\n"
     ]
    }
   ],
   "source": [
    "# 필요한 라이브러리 로드\n",
    "import pandas as pd\n",
    "import numpy as np\n",
    "import pickle\n",
    "import matplotlib.pyplot as plt\n",
    "from scipy import stats\n",
    "import tensorflow as tf\n",
    "import seaborn as sns\n",
    "from pylab import rcParams\n",
    "from sklearn.model_selection import train_test_split\n",
    "from keras.models import Model, load_model\n",
    "from keras.layers import Input, Dense\n",
    "from keras.callbacks import ModelCheckpoint, TensorBoard\n",
    "from keras import regularizers"
   ]
  },
  {
   "cell_type": "code",
   "execution_count": 2,
   "id": "c8d4978c",
   "metadata": {},
   "outputs": [],
   "source": [
    "%matplotlib inline\n",
    "\n",
    "sns.set(style='whitegrid', palette='muted', font_scale=1.5)\n",
    "\n",
    "rcParams['figure.figsize'] = 14, 8\n",
    "\n",
    "# RANDOM_SEED와 LABELS 설정\n",
    "RANDOM_SEED = 42\n",
    "LABELS = [\"Normal\", \"AbNormal\"]"
   ]
  },
  {
   "cell_type": "code",
   "execution_count": 3,
   "id": "e4bbb19b",
   "metadata": {},
   "outputs": [
    {
     "data": {
      "text/html": [
       "<div>\n",
       "<style scoped>\n",
       "    .dataframe tbody tr th:only-of-type {\n",
       "        vertical-align: middle;\n",
       "    }\n",
       "\n",
       "    .dataframe tbody tr th {\n",
       "        vertical-align: top;\n",
       "    }\n",
       "\n",
       "    .dataframe thead th {\n",
       "        text-align: right;\n",
       "    }\n",
       "</style>\n",
       "<table border=\"1\" class=\"dataframe\">\n",
       "  <thead>\n",
       "    <tr style=\"text-align: right;\">\n",
       "      <th></th>\n",
       "      <th>user-id</th>\n",
       "      <th>activity</th>\n",
       "      <th>timestamp</th>\n",
       "      <th>X</th>\n",
       "      <th>Y</th>\n",
       "      <th>Z</th>\n",
       "    </tr>\n",
       "  </thead>\n",
       "  <tbody>\n",
       "    <tr>\n",
       "      <th>221333</th>\n",
       "      <td>27</td>\n",
       "      <td>Sitting</td>\n",
       "      <td>12363992261000</td>\n",
       "      <td>2.600000</td>\n",
       "      <td>9.660000</td>\n",
       "      <td>1.035146</td>\n",
       "    </tr>\n",
       "    <tr>\n",
       "      <th>221334</th>\n",
       "      <td>27</td>\n",
       "      <td>Sitting</td>\n",
       "      <td>12364042279000</td>\n",
       "      <td>2.680000</td>\n",
       "      <td>9.530000</td>\n",
       "      <td>0.503953</td>\n",
       "    </tr>\n",
       "    <tr>\n",
       "      <th>221335</th>\n",
       "      <td>27</td>\n",
       "      <td>Sitting</td>\n",
       "      <td>12364092267000</td>\n",
       "      <td>3.490000</td>\n",
       "      <td>8.890000</td>\n",
       "      <td>0.762740</td>\n",
       "    </tr>\n",
       "    <tr>\n",
       "      <th>221336</th>\n",
       "      <td>27</td>\n",
       "      <td>Sitting</td>\n",
       "      <td>12364142316000</td>\n",
       "      <td>3.640000</td>\n",
       "      <td>9.380000</td>\n",
       "      <td>0.926184</td>\n",
       "    </tr>\n",
       "    <tr>\n",
       "      <th>221337</th>\n",
       "      <td>27</td>\n",
       "      <td>Sitting</td>\n",
       "      <td>12364192273000</td>\n",
       "      <td>2.910000</td>\n",
       "      <td>9.340000</td>\n",
       "      <td>1.035146</td>\n",
       "    </tr>\n",
       "    <tr>\n",
       "      <th>...</th>\n",
       "      <td>...</td>\n",
       "      <td>...</td>\n",
       "      <td>...</td>\n",
       "      <td>...</td>\n",
       "      <td>...</td>\n",
       "      <td>...</td>\n",
       "    </tr>\n",
       "    <tr>\n",
       "      <th>13015</th>\n",
       "      <td>17</td>\n",
       "      <td>Jogging</td>\n",
       "      <td>58401032305000</td>\n",
       "      <td>5.434519</td>\n",
       "      <td>8.853226</td>\n",
       "      <td>3.909040</td>\n",
       "    </tr>\n",
       "    <tr>\n",
       "      <th>13016</th>\n",
       "      <td>17</td>\n",
       "      <td>Jogging</td>\n",
       "      <td>58401203050000</td>\n",
       "      <td>-4.331271</td>\n",
       "      <td>19.531578</td>\n",
       "      <td>-1.729784</td>\n",
       "    </tr>\n",
       "    <tr>\n",
       "      <th>13017</th>\n",
       "      <td>17</td>\n",
       "      <td>Jogging</td>\n",
       "      <td>58401432238000</td>\n",
       "      <td>-1.035146</td>\n",
       "      <td>-5.012288</td>\n",
       "      <td>-4.481094</td>\n",
       "    </tr>\n",
       "    <tr>\n",
       "      <th>13018</th>\n",
       "      <td>17</td>\n",
       "      <td>Jogging</td>\n",
       "      <td>58401542223000</td>\n",
       "      <td>7.082581</td>\n",
       "      <td>17.243360</td>\n",
       "      <td>-0.381370</td>\n",
       "    </tr>\n",
       "    <tr>\n",
       "      <th>13019</th>\n",
       "      <td>17</td>\n",
       "      <td>Jogging</td>\n",
       "      <td>58401592394000</td>\n",
       "      <td>6.442424</td>\n",
       "      <td>5.053149</td>\n",
       "      <td>-5.788648</td>\n",
       "    </tr>\n",
       "  </tbody>\n",
       "</table>\n",
       "<p>8999 rows × 6 columns</p>\n",
       "</div>"
      ],
      "text/plain": [
       "        user-id activity       timestamp         X          Y         Z\n",
       "221333       27  Sitting  12363992261000  2.600000   9.660000  1.035146\n",
       "221334       27  Sitting  12364042279000  2.680000   9.530000  0.503953\n",
       "221335       27  Sitting  12364092267000  3.490000   8.890000  0.762740\n",
       "221336       27  Sitting  12364142316000  3.640000   9.380000  0.926184\n",
       "221337       27  Sitting  12364192273000  2.910000   9.340000  1.035146\n",
       "...         ...      ...             ...       ...        ...       ...\n",
       "13015        17  Jogging  58401032305000  5.434519   8.853226  3.909040\n",
       "13016        17  Jogging  58401203050000 -4.331271  19.531578 -1.729784\n",
       "13017        17  Jogging  58401432238000 -1.035146  -5.012288 -4.481094\n",
       "13018        17  Jogging  58401542223000  7.082581  17.243360 -0.381370\n",
       "13019        17  Jogging  58401592394000  6.442424   5.053149 -5.788648\n",
       "\n",
       "[8999 rows x 6 columns]"
      ]
     },
     "execution_count": 3,
     "metadata": {},
     "output_type": "execute_result"
    }
   ],
   "source": [
    "data = pd.read_csv(\"dataset/WISDM.csv\")\n",
    "data = data.drop('Unnamed: 0', axis=1)\n",
    "\n",
    "sitting = data.loc[(data['activity'] == 'Sitting')]\n",
    "jogging = data.loc[(data['activity'] == 'Jogging')]\n",
    "\n",
    "df = pd.concat([sitting[:4499], jogging[:4500]])\n",
    "\n",
    "df"
   ]
  },
  {
   "cell_type": "code",
   "execution_count": 4,
   "id": "7e5506f6",
   "metadata": {},
   "outputs": [
    {
     "data": {
      "text/plain": [
       "(8999, 6)"
      ]
     },
     "execution_count": 4,
     "metadata": {},
     "output_type": "execute_result"
    }
   ],
   "source": [
    "df.shape"
   ]
  },
  {
   "cell_type": "code",
   "execution_count": 5,
   "id": "a036ffb6",
   "metadata": {},
   "outputs": [
    {
     "data": {
      "text/plain": [
       "False"
      ]
     },
     "execution_count": 5,
     "metadata": {},
     "output_type": "execute_result"
    }
   ],
   "source": [
    "df.isnull().values.any()"
   ]
  },
  {
   "cell_type": "code",
   "execution_count": 6,
   "id": "d6e86959",
   "metadata": {},
   "outputs": [
    {
     "data": {
      "text/plain": [
       "Text(0.5, 0, 'activity')"
      ]
     },
     "execution_count": 6,
     "metadata": {},
     "output_type": "execute_result"
    },
    {
     "data": {
      "image/png": "[encoded data removed]",
      "text/plain": [
       "<Figure size 1400x800 with 1 Axes>"
      ]
     },
     "metadata": {},
     "output_type": "display_data"
    }
   ],
   "source": [
    "count_classes = pd.value_counts(df['activity'], sort = True)\n",
    "count_classes.plot(kind = 'bar', rot=0)\n",
    "plt.title(\"Transaction class distribution\")\n",
    "plt.xticks(range(2), LABELS)\n",
    "plt.xlabel(\"activity\")"
   ]
  },
  {
   "cell_type": "code",
   "execution_count": 7,
   "metadata": {},
   "outputs": [],
   "source": [
    "# Normalize features for training data set (values between 0 and 1)\n",
    "# Surpress warning for next 3 operation\n",
    "pd.options.mode.chained_assignment = None  # default='warn'\n",
    "\n",
    "df['X'] = df['X'] / df['X'].max()\n",
    "df['Y'] = df['Y'] / df['Y'].max()\n",
    "df['Z'] = df['Z'] / df['Z'].max()\n",
    "# Round numbers\n",
    "df = df.round({'X': 4, 'Y': 4, 'Z': 4})"
   ]
  },
  {
   "cell_type": "code",
   "execution_count": 8,
   "id": "7943e6f8",
   "metadata": {},
   "outputs": [
    {
     "data": {
      "text/plain": [
       "(4499, 6)"
      ]
     },
     "execution_count": 8,
     "metadata": {},
     "output_type": "execute_result"
    }
   ],
   "source": [
    "abnormal = df[df.activity == 'Sitting']\n",
    "normal = df[df.activity == 'Jogging']\n",
    "abnormal.shape"
   ]
  },
  {
   "cell_type": "code",
   "execution_count": 9,
   "id": "b40f7940",
   "metadata": {},
   "outputs": [
    {
     "data": {
      "text/plain": [
       "(4500, 6)"
      ]
     },
     "execution_count": 9,
     "metadata": {},
     "output_type": "execute_result"
    }
   ],
   "source": [
    "normal.shape"
   ]
  },
  {
   "cell_type": "code",
   "execution_count": 10,
   "id": "fedb7891",
   "metadata": {},
   "outputs": [],
   "source": [
    "# 모델을 오직 정상 거래기록으로만 훈련\n",
    "# 정상 거래기록을 테스트셋에 넣으면 모델의 성능을 평가"
   ]
  },
  {
   "cell_type": "code",
   "execution_count": 11,
   "metadata": {},
   "outputs": [],
   "source": [
    "\n",
    "X = df[['X', 'Y', 'Z']].values\n",
    "y = df['activity'].apply(lambda x: 0 if x == 'Jogging' else 1).values  # Normal: 0, Abnormal: 1"
   ]
  },
  {
   "cell_type": "code",
   "execution_count": 12,
   "metadata": {},
   "outputs": [],
   "source": [
    "X_train, X_test, y_train, y_test = train_test_split(X, y, test_size=0.2, random_state=RANDOM_SEED)"
   ]
  },
  {
   "cell_type": "code",
   "execution_count": 13,
   "metadata": {},
   "outputs": [],
   "source": [
    "X_train_noisy = X_train + 0.2 * np.random.normal(loc=0.0, scale=1.0, size=X_train.shape)\n",
    "X_test_noisy = X_test + 0.2 * np.random.normal(loc=0.0, scale=1.0, size=X_test.shape)"
   ]
  },
  {
   "cell_type": "code",
   "execution_count": 14,
   "metadata": {},
   "outputs": [],
   "source": [
    "input_dim = X_train.shape[1]\n",
    "\n",
    "from keras.layers import GaussianNoise\n",
    "\n",
    "input_layer = Input(shape=(input_dim,))\n",
    "noise = GaussianNoise(0.2)(input_layer)  # 노이즈 추가\n",
    "encoder = Dense(3, activation=\"tanh\", activity_regularizer=regularizers.l1(10e-5))(noise)\n",
    "encoder = Dense(2, activation=\"relu\")(encoder)\n",
    "decoder = Dense(3, activation='tanh')(encoder)\n",
    "autoencoder = Model(inputs=input_layer, outputs=decoder)\n",
    "\n",
    "autoencoder.compile(optimizer='adam', loss='mean_squared_error')"
   ]
  },
  {
   "cell_type": "code",
   "execution_count": 15,
   "metadata": {},
   "outputs": [
    {
     "name": "stdout",
     "output_type": "stream",
     "text": [
      "57/57 [==============================] - 0s 1ms/step\n"
     ]
    }
   ],
   "source": [
    "predictions = autoencoder.predict(X_test_noisy)\n",
    "\n",
    "mse = np.mean(np.power(X_test - predictions, 2), axis=1)\n",
    "\n",
    "threshold = np.mean(mse) + 2 * np.std(mse)\n",
    "y_pred = [1 if e > threshold else 0 for e in mse]"
   ]
  },
  {
   "cell_type": "code",
   "execution_count": 16,
   "metadata": {},
   "outputs": [
    {
     "data": {
      "image/png": "[encoded data removed]",
      "text/plain": [
       "<Figure size 1400x800 with 2 Axes>"
      ]
     },
     "metadata": {},
     "output_type": "display_data"
    }
   ],
   "source": [
    "from sklearn.metrics import confusion_matrix, classification_report\n",
    "conf_matrix = confusion_matrix(y_test, y_pred)\n",
    "\n",
    "sns.heatmap(conf_matrix, annot=True, fmt=\"d\", cmap=\"Blues\", xticklabels=LABELS, yticklabels=LABELS)\n",
    "plt.title(\"Confusion Matrix\")\n",
    "plt.xlabel('Predicted')\n",
    "plt.ylabel('Actual')\n",
    "plt.show()"
   ]
  }
 ],
 "metadata": {
  "kernelspec": {
   "display_name": "Python 3",
   "language": "python",
   "name": "python3"
  },
  "language_info": {
   "codemirror_mode": {
    "name": "ipython",
    "version": 3
   },
   "file_extension": ".py",
   "mimetype": "text/x-python",
   "name": "python",
   "nbconvert_exporter": "python",
   "pygments_lexer": "ipython3",
   "version": "3.9.18"
  }
 },
 "nbformat": 4,
 "nbformat_minor": 5
}
